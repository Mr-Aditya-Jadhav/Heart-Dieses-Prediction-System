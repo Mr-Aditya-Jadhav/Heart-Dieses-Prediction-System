{
  "cells": [
    {
      "cell_type": "markdown",
      "metadata": {
        "colab_type": "text",
        "id": "view-in-github"
      },
      "source": [
        "<a href=\"https://colab.research.google.com/github/Mr-Aditya-Jadhav/Heart-Dieses-Prediction-System/blob/main/Heart.ipynb\" target=\"_parent\"><img src=\"https://colab.research.google.com/assets/colab-badge.svg\" alt=\"Open In Colab\"/></a>"
      ]
    },
    {
      "cell_type": "markdown",
      "metadata": {
        "id": "MB2ZqbJmeZg5"
      },
      "source": [
        "#IMPORT Required Lib."
      ]
    },
    {
      "cell_type": "code",
      "execution_count": null,
      "metadata": {
        "colab": {
          "base_uri": "https://localhost:8080/"
        },
        "id": "e25O2SugeFvs",
        "outputId": "63c27fe6-dcc5-496f-87de-d31b53e6a19b"
      },
      "outputs": [
        {
          "ename": "",
          "evalue": "",
          "output_type": "error",
          "traceback": [
            "\u001b[1;31mRunning cells with 'c:\\Users\\Aditya\\AppData\\Local\\Programs\\Python\\Python37-32\\python.exe' requires the ipykernel package.\n",
            "\u001b[1;31mRun the following command to install 'ipykernel' into the Python environment. \n",
            "\u001b[1;31mCommand: 'c:/Users/Aditya/AppData/Local/Programs/Python/Python37-32/python.exe -m pip install ipykernel -U --user --force-reinstall'"
          ]
        }
      ],
      "source": [
        "import numpy as np\n",
        "import pandas as pd\n",
        "import matplotlib.pyplot as plt\n",
        "import seaborn as sns\n",
        "\n",
        "from sklearn.model_selection import train_test_split, StratifiedKFold, cross_val_score\n",
        "from sklearn.pipeline import make_pipeline, Pipeline\n",
        "from sklearn.model_selection import GridSearchCV\n",
        "\n",
        "from sklearn.svm import SVC\n",
        "from sklearn.naive_bayes import MultinomialNB\n",
        "from sklearn.linear_model import LogisticRegression\n",
        "from sklearn.tree import DecisionTreeClassifier\n",
        "from sklearn.ensemble import RandomForestClassifier\n",
        "import joblib\n",
        "from sklearn.metrics import make_scorer, f1_score, recall_score, precision_score\n",
        "from sklearn.metrics import classification_report, confusion_matrix, accuracy_score\n",
        "from sklearn.metrics import log_loss\n",
        "import warnings\n",
        "warnings.simplefilter(action = 'ignore', category= FutureWarning)\n",
        "\n",
        "\n",
        "from sklearn.ensemble import BaggingClassifier\n",
        "from sklearn.ensemble import AdaBoostClassifier\n",
        "\n",
        "\n",
        "print(\"IMPORT Succesfull\")"
      ]
    },
    {
      "cell_type": "markdown",
      "metadata": {
        "id": "6e-qVtRfeX4h"
      },
      "source": [
        "#read the csv dataset"
      ]
    },
    {
      "cell_type": "code",
      "execution_count": null,
      "metadata": {
        "colab": {
          "base_uri": "https://localhost:8080/"
        },
        "id": "FRqGoi9De9zi",
        "outputId": "90cb0df7-4f8a-47d2-ee2d-38ce5b8cd676"
      },
      "outputs": [
        {
          "name": "stdout",
          "output_type": "stream",
          "text": [
            "Drive already mounted at /content/drive; to attempt to forcibly remount, call drive.mount(\"/content/drive\", force_remount=True).\n"
          ]
        }
      ],
      "source": [
        "from google.colab import drive\n",
        "drive.mount('/content/drive')"
      ]
    },
    {
      "cell_type": "code",
      "execution_count": null,
      "metadata": {
        "colab": {
          "base_uri": "https://localhost:8080/",
          "height": 206
        },
        "id": "zKYnNVTvekjm",
        "outputId": "c38a6058-e18d-4254-cf85-f84a385b3f8b"
      },
      "outputs": [
        {
          "data": {
            "text/html": [
              "\n",
              "  <div id=\"df-79c543bb-65a5-4eb4-b81b-e490f1d9514b\" class=\"colab-df-container\">\n",
              "    <div>\n",
              "<style scoped>\n",
              "    .dataframe tbody tr th:only-of-type {\n",
              "        vertical-align: middle;\n",
              "    }\n",
              "\n",
              "    .dataframe tbody tr th {\n",
              "        vertical-align: top;\n",
              "    }\n",
              "\n",
              "    .dataframe thead th {\n",
              "        text-align: right;\n",
              "    }\n",
              "</style>\n",
              "<table border=\"1\" class=\"dataframe\">\n",
              "  <thead>\n",
              "    <tr style=\"text-align: right;\">\n",
              "      <th></th>\n",
              "      <th>age</th>\n",
              "      <th>sex</th>\n",
              "      <th>cp</th>\n",
              "      <th>trestbps</th>\n",
              "      <th>chol</th>\n",
              "      <th>fbs</th>\n",
              "      <th>restecg</th>\n",
              "      <th>thalach</th>\n",
              "      <th>exang</th>\n",
              "      <th>oldpeak</th>\n",
              "      <th>slope</th>\n",
              "      <th>ca</th>\n",
              "      <th>thal</th>\n",
              "      <th>target</th>\n",
              "    </tr>\n",
              "  </thead>\n",
              "  <tbody>\n",
              "    <tr>\n",
              "      <th>0</th>\n",
              "      <td>63</td>\n",
              "      <td>1</td>\n",
              "      <td>3</td>\n",
              "      <td>145</td>\n",
              "      <td>233</td>\n",
              "      <td>1</td>\n",
              "      <td>0</td>\n",
              "      <td>150</td>\n",
              "      <td>0</td>\n",
              "      <td>2.3</td>\n",
              "      <td>0</td>\n",
              "      <td>0</td>\n",
              "      <td>1</td>\n",
              "      <td>1</td>\n",
              "    </tr>\n",
              "    <tr>\n",
              "      <th>1</th>\n",
              "      <td>37</td>\n",
              "      <td>1</td>\n",
              "      <td>2</td>\n",
              "      <td>130</td>\n",
              "      <td>250</td>\n",
              "      <td>0</td>\n",
              "      <td>1</td>\n",
              "      <td>187</td>\n",
              "      <td>0</td>\n",
              "      <td>3.5</td>\n",
              "      <td>0</td>\n",
              "      <td>0</td>\n",
              "      <td>2</td>\n",
              "      <td>1</td>\n",
              "    </tr>\n",
              "    <tr>\n",
              "      <th>2</th>\n",
              "      <td>41</td>\n",
              "      <td>0</td>\n",
              "      <td>1</td>\n",
              "      <td>130</td>\n",
              "      <td>204</td>\n",
              "      <td>0</td>\n",
              "      <td>0</td>\n",
              "      <td>172</td>\n",
              "      <td>0</td>\n",
              "      <td>1.4</td>\n",
              "      <td>2</td>\n",
              "      <td>0</td>\n",
              "      <td>2</td>\n",
              "      <td>1</td>\n",
              "    </tr>\n",
              "    <tr>\n",
              "      <th>3</th>\n",
              "      <td>56</td>\n",
              "      <td>1</td>\n",
              "      <td>1</td>\n",
              "      <td>120</td>\n",
              "      <td>236</td>\n",
              "      <td>0</td>\n",
              "      <td>1</td>\n",
              "      <td>178</td>\n",
              "      <td>0</td>\n",
              "      <td>0.8</td>\n",
              "      <td>2</td>\n",
              "      <td>0</td>\n",
              "      <td>2</td>\n",
              "      <td>1</td>\n",
              "    </tr>\n",
              "    <tr>\n",
              "      <th>4</th>\n",
              "      <td>57</td>\n",
              "      <td>0</td>\n",
              "      <td>0</td>\n",
              "      <td>120</td>\n",
              "      <td>354</td>\n",
              "      <td>0</td>\n",
              "      <td>1</td>\n",
              "      <td>163</td>\n",
              "      <td>1</td>\n",
              "      <td>0.6</td>\n",
              "      <td>2</td>\n",
              "      <td>0</td>\n",
              "      <td>2</td>\n",
              "      <td>1</td>\n",
              "    </tr>\n",
              "  </tbody>\n",
              "</table>\n",
              "</div>\n",
              "    <div class=\"colab-df-buttons\">\n",
              "\n",
              "  <div class=\"colab-df-container\">\n",
              "    <button class=\"colab-df-convert\" onclick=\"convertToInteractive('df-79c543bb-65a5-4eb4-b81b-e490f1d9514b')\"\n",
              "            title=\"Convert this dataframe to an interactive table.\"\n",
              "            style=\"display:none;\">\n",
              "\n",
              "  <svg xmlns=\"http://www.w3.org/2000/svg\" height=\"24px\" viewBox=\"0 -960 960 960\">\n",
              "    <path d=\"M120-120v-720h720v720H120Zm60-500h600v-160H180v160Zm220 220h160v-160H400v160Zm0 220h160v-160H400v160ZM180-400h160v-160H180v160Zm440 0h160v-160H620v160ZM180-180h160v-160H180v160Zm440 0h160v-160H620v160Z\"/>\n",
              "  </svg>\n",
              "    </button>\n",
              "\n",
              "  <style>\n",
              "    .colab-df-container {\n",
              "      display:flex;\n",
              "      gap: 12px;\n",
              "    }\n",
              "\n",
              "    .colab-df-convert {\n",
              "      background-color: #E8F0FE;\n",
              "      border: none;\n",
              "      border-radius: 50%;\n",
              "      cursor: pointer;\n",
              "      display: none;\n",
              "      fill: #1967D2;\n",
              "      height: 32px;\n",
              "      padding: 0 0 0 0;\n",
              "      width: 32px;\n",
              "    }\n",
              "\n",
              "    .colab-df-convert:hover {\n",
              "      background-color: #E2EBFA;\n",
              "      box-shadow: 0px 1px 2px rgba(60, 64, 67, 0.3), 0px 1px 3px 1px rgba(60, 64, 67, 0.15);\n",
              "      fill: #174EA6;\n",
              "    }\n",
              "\n",
              "    .colab-df-buttons div {\n",
              "      margin-bottom: 4px;\n",
              "    }\n",
              "\n",
              "    [theme=dark] .colab-df-convert {\n",
              "      background-color: #3B4455;\n",
              "      fill: #D2E3FC;\n",
              "    }\n",
              "\n",
              "    [theme=dark] .colab-df-convert:hover {\n",
              "      background-color: #434B5C;\n",
              "      box-shadow: 0px 1px 3px 1px rgba(0, 0, 0, 0.15);\n",
              "      filter: drop-shadow(0px 1px 2px rgba(0, 0, 0, 0.3));\n",
              "      fill: #FFFFFF;\n",
              "    }\n",
              "  </style>\n",
              "\n",
              "    <script>\n",
              "      const buttonEl =\n",
              "        document.querySelector('#df-79c543bb-65a5-4eb4-b81b-e490f1d9514b button.colab-df-convert');\n",
              "      buttonEl.style.display =\n",
              "        google.colab.kernel.accessAllowed ? 'block' : 'none';\n",
              "\n",
              "      async function convertToInteractive(key) {\n",
              "        const element = document.querySelector('#df-79c543bb-65a5-4eb4-b81b-e490f1d9514b');\n",
              "        const dataTable =\n",
              "          await google.colab.kernel.invokeFunction('convertToInteractive',\n",
              "                                                    [key], {});\n",
              "        if (!dataTable) return;\n",
              "\n",
              "        const docLinkHtml = 'Like what you see? Visit the ' +\n",
              "          '<a target=\"_blank\" href=https://colab.research.google.com/notebooks/data_table.ipynb>data table notebook</a>'\n",
              "          + ' to learn more about interactive tables.';\n",
              "        element.innerHTML = '';\n",
              "        dataTable['output_type'] = 'display_data';\n",
              "        await google.colab.output.renderOutput(dataTable, element);\n",
              "        const docLink = document.createElement('div');\n",
              "        docLink.innerHTML = docLinkHtml;\n",
              "        element.appendChild(docLink);\n",
              "      }\n",
              "    </script>\n",
              "  </div>\n",
              "\n",
              "\n",
              "<div id=\"df-16c74eb3-33ee-4523-a8df-459177802d1f\">\n",
              "  <button class=\"colab-df-quickchart\" onclick=\"quickchart('df-16c74eb3-33ee-4523-a8df-459177802d1f')\"\n",
              "            title=\"Suggest charts.\"\n",
              "            style=\"display:none;\">\n",
              "\n",
              "<svg xmlns=\"http://www.w3.org/2000/svg\" height=\"24px\"viewBox=\"0 0 24 24\"\n",
              "     width=\"24px\">\n",
              "    <g>\n",
              "        <path d=\"M19 3H5c-1.1 0-2 .9-2 2v14c0 1.1.9 2 2 2h14c1.1 0 2-.9 2-2V5c0-1.1-.9-2-2-2zM9 17H7v-7h2v7zm4 0h-2V7h2v10zm4 0h-2v-4h2v4z\"/>\n",
              "    </g>\n",
              "</svg>\n",
              "  </button>\n",
              "\n",
              "<style>\n",
              "  .colab-df-quickchart {\n",
              "      --bg-color: #E8F0FE;\n",
              "      --fill-color: #1967D2;\n",
              "      --hover-bg-color: #E2EBFA;\n",
              "      --hover-fill-color: #174EA6;\n",
              "      --disabled-fill-color: #AAA;\n",
              "      --disabled-bg-color: #DDD;\n",
              "  }\n",
              "\n",
              "  [theme=dark] .colab-df-quickchart {\n",
              "      --bg-color: #3B4455;\n",
              "      --fill-color: #D2E3FC;\n",
              "      --hover-bg-color: #434B5C;\n",
              "      --hover-fill-color: #FFFFFF;\n",
              "      --disabled-bg-color: #3B4455;\n",
              "      --disabled-fill-color: #666;\n",
              "  }\n",
              "\n",
              "  .colab-df-quickchart {\n",
              "    background-color: var(--bg-color);\n",
              "    border: none;\n",
              "    border-radius: 50%;\n",
              "    cursor: pointer;\n",
              "    display: none;\n",
              "    fill: var(--fill-color);\n",
              "    height: 32px;\n",
              "    padding: 0;\n",
              "    width: 32px;\n",
              "  }\n",
              "\n",
              "  .colab-df-quickchart:hover {\n",
              "    background-color: var(--hover-bg-color);\n",
              "    box-shadow: 0 1px 2px rgba(60, 64, 67, 0.3), 0 1px 3px 1px rgba(60, 64, 67, 0.15);\n",
              "    fill: var(--button-hover-fill-color);\n",
              "  }\n",
              "\n",
              "  .colab-df-quickchart-complete:disabled,\n",
              "  .colab-df-quickchart-complete:disabled:hover {\n",
              "    background-color: var(--disabled-bg-color);\n",
              "    fill: var(--disabled-fill-color);\n",
              "    box-shadow: none;\n",
              "  }\n",
              "\n",
              "  .colab-df-spinner {\n",
              "    border: 2px solid var(--fill-color);\n",
              "    border-color: transparent;\n",
              "    border-bottom-color: var(--fill-color);\n",
              "    animation:\n",
              "      spin 1s steps(1) infinite;\n",
              "  }\n",
              "\n",
              "  @keyframes spin {\n",
              "    0% {\n",
              "      border-color: transparent;\n",
              "      border-bottom-color: var(--fill-color);\n",
              "      border-left-color: var(--fill-color);\n",
              "    }\n",
              "    20% {\n",
              "      border-color: transparent;\n",
              "      border-left-color: var(--fill-color);\n",
              "      border-top-color: var(--fill-color);\n",
              "    }\n",
              "    30% {\n",
              "      border-color: transparent;\n",
              "      border-left-color: var(--fill-color);\n",
              "      border-top-color: var(--fill-color);\n",
              "      border-right-color: var(--fill-color);\n",
              "    }\n",
              "    40% {\n",
              "      border-color: transparent;\n",
              "      border-right-color: var(--fill-color);\n",
              "      border-top-color: var(--fill-color);\n",
              "    }\n",
              "    60% {\n",
              "      border-color: transparent;\n",
              "      border-right-color: var(--fill-color);\n",
              "    }\n",
              "    80% {\n",
              "      border-color: transparent;\n",
              "      border-right-color: var(--fill-color);\n",
              "      border-bottom-color: var(--fill-color);\n",
              "    }\n",
              "    90% {\n",
              "      border-color: transparent;\n",
              "      border-bottom-color: var(--fill-color);\n",
              "    }\n",
              "  }\n",
              "</style>\n",
              "\n",
              "  <script>\n",
              "    async function quickchart(key) {\n",
              "      const quickchartButtonEl =\n",
              "        document.querySelector('#' + key + ' button');\n",
              "      quickchartButtonEl.disabled = true;  // To prevent multiple clicks.\n",
              "      quickchartButtonEl.classList.add('colab-df-spinner');\n",
              "      try {\n",
              "        const charts = await google.colab.kernel.invokeFunction(\n",
              "            'suggestCharts', [key], {});\n",
              "      } catch (error) {\n",
              "        console.error('Error during call to suggestCharts:', error);\n",
              "      }\n",
              "      quickchartButtonEl.classList.remove('colab-df-spinner');\n",
              "      quickchartButtonEl.classList.add('colab-df-quickchart-complete');\n",
              "    }\n",
              "    (() => {\n",
              "      let quickchartButtonEl =\n",
              "        document.querySelector('#df-16c74eb3-33ee-4523-a8df-459177802d1f button');\n",
              "      quickchartButtonEl.style.display =\n",
              "        google.colab.kernel.accessAllowed ? 'block' : 'none';\n",
              "    })();\n",
              "  </script>\n",
              "</div>\n",
              "    </div>\n",
              "  </div>\n"
            ],
            "text/plain": [
              "   age  sex  cp  trestbps  chol  fbs  restecg  thalach  exang  oldpeak  slope  \\\n",
              "0   63    1   3       145   233    1        0      150      0      2.3      0   \n",
              "1   37    1   2       130   250    0        1      187      0      3.5      0   \n",
              "2   41    0   1       130   204    0        0      172      0      1.4      2   \n",
              "3   56    1   1       120   236    0        1      178      0      0.8      2   \n",
              "4   57    0   0       120   354    0        1      163      1      0.6      2   \n",
              "\n",
              "   ca  thal  target  \n",
              "0   0     1       1  \n",
              "1   0     2       1  \n",
              "2   0     2       1  \n",
              "3   0     2       1  \n",
              "4   0     2       1  "
            ]
          },
          "execution_count": 28,
          "metadata": {},
          "output_type": "execute_result"
        }
      ],
      "source": [
        "data = pd.read_csv(\"/content/drive/MyDrive/Final Year Project/heart.csv\") #https://www.kaggle.com/datasets/johnsmith88/heart-disease-dataset\n",
        "data.columns\n",
        "\n",
        "data.head()"
      ]
    },
    {
      "cell_type": "code",
      "execution_count": null,
      "metadata": {
        "colab": {
          "base_uri": "https://localhost:8080/"
        },
        "id": "znPXyZXWkhJe",
        "outputId": "35fa0c0c-c532-4319-f9f4-55ecef2ad6fa"
      },
      "outputs": [
        {
          "data": {
            "text/plain": [
              "(303, 14)"
            ]
          },
          "execution_count": 29,
          "metadata": {},
          "output_type": "execute_result"
        }
      ],
      "source": [
        "#Total number of rows and columns\n",
        "data.shape"
      ]
    },
    {
      "cell_type": "markdown",
      "metadata": {
        "id": "qOjUhIa8ho_5"
      },
      "source": [
        "## Feature selection\n",
        "#get correlation of each feature in dataset"
      ]
    },
    {
      "cell_type": "code",
      "execution_count": null,
      "metadata": {
        "colab": {
          "base_uri": "https://localhost:8080/",
          "height": 52
        },
        "id": "Sc0KUbb2hr7U",
        "outputId": "b49b24d4-30ec-41e7-a91f-562a39348472"
      },
      "outputs": [
        {
          "data": {
            "text/plain": [
              "<Figure size 1300x1300 with 0 Axes>"
            ]
          },
          "execution_count": 30,
          "metadata": {},
          "output_type": "execute_result"
        },
        {
          "data": {
            "text/plain": [
              "<Figure size 1300x1300 with 0 Axes>"
            ]
          },
          "metadata": {},
          "output_type": "display_data"
        }
      ],
      "source": [
        "corrmat = data.corr()\n",
        "top_corr_features = corrmat.index\n",
        "plt.figure(figsize=(13,13))"
      ]
    },
    {
      "cell_type": "code",
      "execution_count": null,
      "metadata": {
        "colab": {
          "base_uri": "https://localhost:8080/",
          "height": 478
        },
        "id": "Wq-PypXQhytn",
        "outputId": "846079da-e165-445e-d10c-9068784bb160"
      },
      "outputs": [
        {
          "data": {
            "image/png": "[encoded data removed]",
            "text/plain": [
              "<Figure size 640x480 with 2 Axes>"
            ]
          },
          "metadata": {},
          "output_type": "display_data"
        }
      ],
      "source": [
        "#plot heat map\n",
        "g = sns.heatmap(data[top_corr_features].corr(),annot=False,cmap=\"RdYlGn\")\n"
      ]
    },
    {
      "cell_type": "code",
      "execution_count": null,
      "metadata": {
        "colab": {
          "base_uri": "https://localhost:8080/"
        },
        "id": "Nw-mIzerIN7a",
        "outputId": "454bf909-b038-49f8-c696-ae4d765f12b8"
      },
      "outputs": [
        {
          "name": "stdout",
          "output_type": "stream",
          "text": [
            "exang      -0.436757\n",
            "oldpeak    -0.430696\n",
            "ca         -0.391724\n",
            "thal       -0.344029\n",
            "sex        -0.280937\n",
            "age        -0.225439\n",
            "trestbps   -0.144931\n",
            "chol       -0.085239\n",
            "fbs        -0.028046\n",
            "restecg     0.137230\n",
            "slope       0.345877\n",
            "thalach     0.421741\n",
            "cp          0.433798\n",
            "target      1.000000\n",
            "Name: target, dtype: float64\n",
            "Very less correlation with Target :  ['thal', 'sex', 'age', 'trestbps', 'chol', 'fbs', 'restecg', 'slope']\n"
          ]
        }
      ],
      "source": [
        "# Calculate the correlation between each feature and the target feature\n",
        "correlations = data.corr()['target'].sort_values()\n",
        "\n",
        "print(correlations)\n",
        "\n",
        "# Identify features with correlation coefficients close to zero\n",
        "low_correlation_features = correlations[np.abs(correlations) < 0.35].index.tolist()\n",
        "\n",
        "# Print the names of the low correlation features\n",
        "print(\"Very less correlation with Target : \", low_correlation_features)"
      ]
    },
    {
      "cell_type": "markdown",
      "metadata": {
        "id": "P5zCBa6Bh9qS"
      },
      "source": [
        "#Data Drop and Split 70:30"
      ]
    },
    {
      "cell_type": "code",
      "execution_count": null,
      "metadata": {
        "colab": {
          "base_uri": "https://localhost:8080/"
        },
        "id": "rvIMnD6UiDvh",
        "outputId": "14819288-434a-4b89-e621-a897eda718e5"
      },
      "outputs": [
        {
          "name": "stdout",
          "output_type": "stream",
          "text": [
            "Data Preprocessing Completed\n"
          ]
        }
      ],
      "source": [
        "data=data.drop(['sex', 'fbs', 'restecg', 'slope', 'chol', 'age', 'trestbps','thal'], axis=1)\n",
        "\n",
        "target=data['target']\n",
        "data = data.drop(['target'],axis=1)\n",
        "data.head()\n",
        "\n",
        "# We split the data into training and testing set:\n",
        "x_train, x_test, y_train, y_test = train_test_split(data, target, test_size=0.3, random_state=10)\n",
        "print(\"Data Preprocessing Completed\")"
      ]
    },
    {
      "cell_type": "markdown",
      "metadata": {
        "id": "GM2unAXZlWjk"
      },
      "source": [
        "#New DataSET\n"
      ]
    },
    {
      "cell_type": "code",
      "execution_count": null,
      "metadata": {
        "colab": {
          "base_uri": "https://localhost:8080/",
          "height": 224
        },
        "id": "GmLbuDzblZjy",
        "outputId": "bd1c1573-0ac1-47a9-d77a-11252c6e8002"
      },
      "outputs": [
        {
          "name": "stdout",
          "output_type": "stream",
          "text": [
            "New Data Set\n"
          ]
        },
        {
          "data": {
            "text/html": [
              "\n",
              "  <div id=\"df-58cdba8f-de8c-4f15-b195-2136b7e2845b\" class=\"colab-df-container\">\n",
              "    <div>\n",
              "<style scoped>\n",
              "    .dataframe tbody tr th:only-of-type {\n",
              "        vertical-align: middle;\n",
              "    }\n",
              "\n",
              "    .dataframe tbody tr th {\n",
              "        vertical-align: top;\n",
              "    }\n",
              "\n",
              "    .dataframe thead th {\n",
              "        text-align: right;\n",
              "    }\n",
              "</style>\n",
              "<table border=\"1\" class=\"dataframe\">\n",
              "  <thead>\n",
              "    <tr style=\"text-align: right;\">\n",
              "      <th></th>\n",
              "      <th>cp</th>\n",
              "      <th>thalach</th>\n",
              "      <th>exang</th>\n",
              "      <th>oldpeak</th>\n",
              "      <th>ca</th>\n",
              "    </tr>\n",
              "  </thead>\n",
              "  <tbody>\n",
              "    <tr>\n",
              "      <th>0</th>\n",
              "      <td>3</td>\n",
              "      <td>150</td>\n",
              "      <td>0</td>\n",
              "      <td>2.3</td>\n",
              "      <td>0</td>\n",
              "    </tr>\n",
              "    <tr>\n",
              "      <th>1</th>\n",
              "      <td>2</td>\n",
              "      <td>187</td>\n",
              "      <td>0</td>\n",
              "      <td>3.5</td>\n",
              "      <td>0</td>\n",
              "    </tr>\n",
              "    <tr>\n",
              "      <th>2</th>\n",
              "      <td>1</td>\n",
              "      <td>172</td>\n",
              "      <td>0</td>\n",
              "      <td>1.4</td>\n",
              "      <td>0</td>\n",
              "    </tr>\n",
              "    <tr>\n",
              "      <th>3</th>\n",
              "      <td>1</td>\n",
              "      <td>178</td>\n",
              "      <td>0</td>\n",
              "      <td>0.8</td>\n",
              "      <td>0</td>\n",
              "    </tr>\n",
              "    <tr>\n",
              "      <th>4</th>\n",
              "      <td>0</td>\n",
              "      <td>163</td>\n",
              "      <td>1</td>\n",
              "      <td>0.6</td>\n",
              "      <td>0</td>\n",
              "    </tr>\n",
              "  </tbody>\n",
              "</table>\n",
              "</div>\n",
              "    <div class=\"colab-df-buttons\">\n",
              "\n",
              "  <div class=\"colab-df-container\">\n",
              "    <button class=\"colab-df-convert\" onclick=\"convertToInteractive('df-58cdba8f-de8c-4f15-b195-2136b7e2845b')\"\n",
              "            title=\"Convert this dataframe to an interactive table.\"\n",
              "            style=\"display:none;\">\n",
              "\n",
              "  <svg xmlns=\"http://www.w3.org/2000/svg\" height=\"24px\" viewBox=\"0 -960 960 960\">\n",
              "    <path d=\"M120-120v-720h720v720H120Zm60-500h600v-160H180v160Zm220 220h160v-160H400v160Zm0 220h160v-160H400v160ZM180-400h160v-160H180v160Zm440 0h160v-160H620v160ZM180-180h160v-160H180v160Zm440 0h160v-160H620v160Z\"/>\n",
              "  </svg>\n",
              "    </button>\n",
              "\n",
              "  <style>\n",
              "    .colab-df-container {\n",
              "      display:flex;\n",
              "      gap: 12px;\n",
              "    }\n",
              "\n",
              "    .colab-df-convert {\n",
              "      background-color: #E8F0FE;\n",
              "      border: none;\n",
              "      border-radius: 50%;\n",
              "      cursor: pointer;\n",
              "      display: none;\n",
              "      fill: #1967D2;\n",
              "      height: 32px;\n",
              "      padding: 0 0 0 0;\n",
              "      width: 32px;\n",
              "    }\n",
              "\n",
              "    .colab-df-convert:hover {\n",
              "      background-color: #E2EBFA;\n",
              "      box-shadow: 0px 1px 2px rgba(60, 64, 67, 0.3), 0px 1px 3px 1px rgba(60, 64, 67, 0.15);\n",
              "      fill: #174EA6;\n",
              "    }\n",
              "\n",
              "    .colab-df-buttons div {\n",
              "      margin-bottom: 4px;\n",
              "    }\n",
              "\n",
              "    [theme=dark] .colab-df-convert {\n",
              "      background-color: #3B4455;\n",
              "      fill: #D2E3FC;\n",
              "    }\n",
              "\n",
              "    [theme=dark] .colab-df-convert:hover {\n",
              "      background-color: #434B5C;\n",
              "      box-shadow: 0px 1px 3px 1px rgba(0, 0, 0, 0.15);\n",
              "      filter: drop-shadow(0px 1px 2px rgba(0, 0, 0, 0.3));\n",
              "      fill: #FFFFFF;\n",
              "    }\n",
              "  </style>\n",
              "\n",
              "    <script>\n",
              "      const buttonEl =\n",
              "        document.querySelector('#df-58cdba8f-de8c-4f15-b195-2136b7e2845b button.colab-df-convert');\n",
              "      buttonEl.style.display =\n",
              "        google.colab.kernel.accessAllowed ? 'block' : 'none';\n",
              "\n",
              "      async function convertToInteractive(key) {\n",
              "        const element = document.querySelector('#df-58cdba8f-de8c-4f15-b195-2136b7e2845b');\n",
              "        const dataTable =\n",
              "          await google.colab.kernel.invokeFunction('convertToInteractive',\n",
              "                                                    [key], {});\n",
              "        if (!dataTable) return;\n",
              "\n",
              "        const docLinkHtml = 'Like what you see? Visit the ' +\n",
              "          '<a target=\"_blank\" href=https://colab.research.google.com/notebooks/data_table.ipynb>data table notebook</a>'\n",
              "          + ' to learn more about interactive tables.';\n",
              "        element.innerHTML = '';\n",
              "        dataTable['output_type'] = 'display_data';\n",
              "        await google.colab.output.renderOutput(dataTable, element);\n",
              "        const docLink = document.createElement('div');\n",
              "        docLink.innerHTML = docLinkHtml;\n",
              "        element.appendChild(docLink);\n",
              "      }\n",
              "    </script>\n",
              "  </div>\n",
              "\n",
              "\n",
              "<div id=\"df-95ef2197-8349-47a4-aca1-6b1f45f5a37d\">\n",
              "  <button class=\"colab-df-quickchart\" onclick=\"quickchart('df-95ef2197-8349-47a4-aca1-6b1f45f5a37d')\"\n",
              "            title=\"Suggest charts.\"\n",
              "            style=\"display:none;\">\n",
              "\n",
              "<svg xmlns=\"http://www.w3.org/2000/svg\" height=\"24px\"viewBox=\"0 0 24 24\"\n",
              "     width=\"24px\">\n",
              "    <g>\n",
              "        <path d=\"M19 3H5c-1.1 0-2 .9-2 2v14c0 1.1.9 2 2 2h14c1.1 0 2-.9 2-2V5c0-1.1-.9-2-2-2zM9 17H7v-7h2v7zm4 0h-2V7h2v10zm4 0h-2v-4h2v4z\"/>\n",
              "    </g>\n",
              "</svg>\n",
              "  </button>\n",
              "\n",
              "<style>\n",
              "  .colab-df-quickchart {\n",
              "      --bg-color: #E8F0FE;\n",
              "      --fill-color: #1967D2;\n",
              "      --hover-bg-color: #E2EBFA;\n",
              "      --hover-fill-color: #174EA6;\n",
              "      --disabled-fill-color: #AAA;\n",
              "      --disabled-bg-color: #DDD;\n",
              "  }\n",
              "\n",
              "  [theme=dark] .colab-df-quickchart {\n",
              "      --bg-color: #3B4455;\n",
              "      --fill-color: #D2E3FC;\n",
              "      --hover-bg-color: #434B5C;\n",
              "      --hover-fill-color: #FFFFFF;\n",
              "      --disabled-bg-color: #3B4455;\n",
              "      --disabled-fill-color: #666;\n",
              "  }\n",
              "\n",
              "  .colab-df-quickchart {\n",
              "    background-color: var(--bg-color);\n",
              "    border: none;\n",
              "    border-radius: 50%;\n",
              "    cursor: pointer;\n",
              "    display: none;\n",
              "    fill: var(--fill-color);\n",
              "    height: 32px;\n",
              "    padding: 0;\n",
              "    width: 32px;\n",
              "  }\n",
              "\n",
              "  .colab-df-quickchart:hover {\n",
              "    background-color: var(--hover-bg-color);\n",
              "    box-shadow: 0 1px 2px rgba(60, 64, 67, 0.3), 0 1px 3px 1px rgba(60, 64, 67, 0.15);\n",
              "    fill: var(--button-hover-fill-color);\n",
              "  }\n",
              "\n",
              "  .colab-df-quickchart-complete:disabled,\n",
              "  .colab-df-quickchart-complete:disabled:hover {\n",
              "    background-color: var(--disabled-bg-color);\n",
              "    fill: var(--disabled-fill-color);\n",
              "    box-shadow: none;\n",
              "  }\n",
              "\n",
              "  .colab-df-spinner {\n",
              "    border: 2px solid var(--fill-color);\n",
              "    border-color: transparent;\n",
              "    border-bottom-color: var(--fill-color);\n",
              "    animation:\n",
              "      spin 1s steps(1) infinite;\n",
              "  }\n",
              "\n",
              "  @keyframes spin {\n",
              "    0% {\n",
              "      border-color: transparent;\n",
              "      border-bottom-color: var(--fill-color);\n",
              "      border-left-color: var(--fill-color);\n",
              "    }\n",
              "    20% {\n",
              "      border-color: transparent;\n",
              "      border-left-color: var(--fill-color);\n",
              "      border-top-color: var(--fill-color);\n",
              "    }\n",
              "    30% {\n",
              "      border-color: transparent;\n",
              "      border-left-color: var(--fill-color);\n",
              "      border-top-color: var(--fill-color);\n",
              "      border-right-color: var(--fill-color);\n",
              "    }\n",
              "    40% {\n",
              "      border-color: transparent;\n",
              "      border-right-color: var(--fill-color);\n",
              "      border-top-color: var(--fill-color);\n",
              "    }\n",
              "    60% {\n",
              "      border-color: transparent;\n",
              "      border-right-color: var(--fill-color);\n",
              "    }\n",
              "    80% {\n",
              "      border-color: transparent;\n",
              "      border-right-color: var(--fill-color);\n",
              "      border-bottom-color: var(--fill-color);\n",
              "    }\n",
              "    90% {\n",
              "      border-color: transparent;\n",
              "      border-bottom-color: var(--fill-color);\n",
              "    }\n",
              "  }\n",
              "</style>\n",
              "\n",
              "  <script>\n",
              "    async function quickchart(key) {\n",
              "      const quickchartButtonEl =\n",
              "        document.querySelector('#' + key + ' button');\n",
              "      quickchartButtonEl.disabled = true;  // To prevent multiple clicks.\n",
              "      quickchartButtonEl.classList.add('colab-df-spinner');\n",
              "      try {\n",
              "        const charts = await google.colab.kernel.invokeFunction(\n",
              "            'suggestCharts', [key], {});\n",
              "      } catch (error) {\n",
              "        console.error('Error during call to suggestCharts:', error);\n",
              "      }\n",
              "      quickchartButtonEl.classList.remove('colab-df-spinner');\n",
              "      quickchartButtonEl.classList.add('colab-df-quickchart-complete');\n",
              "    }\n",
              "    (() => {\n",
              "      let quickchartButtonEl =\n",
              "        document.querySelector('#df-95ef2197-8349-47a4-aca1-6b1f45f5a37d button');\n",
              "      quickchartButtonEl.style.display =\n",
              "        google.colab.kernel.accessAllowed ? 'block' : 'none';\n",
              "    })();\n",
              "  </script>\n",
              "</div>\n",
              "    </div>\n",
              "  </div>\n"
            ],
            "text/plain": [
              "   cp  thalach  exang  oldpeak  ca\n",
              "0   3      150      0      2.3   0\n",
              "1   2      187      0      3.5   0\n",
              "2   1      172      0      1.4   0\n",
              "3   1      178      0      0.8   0\n",
              "4   0      163      1      0.6   0"
            ]
          },
          "execution_count": 34,
          "metadata": {},
          "output_type": "execute_result"
        }
      ],
      "source": [
        "print(\"New Data Set\")\n",
        "data.head()\n"
      ]
    },
    {
      "cell_type": "code",
      "execution_count": null,
      "metadata": {
        "colab": {
          "base_uri": "https://localhost:8080/"
        },
        "id": "fyeW7d3xh2bU",
        "outputId": "a6868d9a-a4a1-4d9c-cfbe-aa6d1c80a66a"
      },
      "outputs": [
        {
          "data": {
            "text/plain": [
              "(303, 5)"
            ]
          },
          "execution_count": 35,
          "metadata": {},
          "output_type": "execute_result"
        }
      ],
      "source": [
        "data.shape"
      ]
    },
    {
      "cell_type": "markdown",
      "metadata": {
        "id": "rbd9yNSQiKww"
      },
      "source": [
        "## Base Learners"
      ]
    },
    {
      "cell_type": "code",
      "execution_count": null,
      "metadata": {
        "id": "41sX3IJliLHl"
      },
      "outputs": [],
      "source": [
        "clfs = []\n",
        "kfolds = StratifiedKFold(n_splits=5, shuffle=True, random_state=1)\n",
        "np.random.seed(1)"
      ]
    },
    {
      "cell_type": "markdown",
      "metadata": {
        "id": "TpvDVqmViTmG"
      },
      "source": [
        "#Support Vector Machine(SVM)"
      ]
    },
    {
      "cell_type": "code",
      "execution_count": null,
      "metadata": {
        "colab": {
          "base_uri": "https://localhost:8080/"
        },
        "id": "SmwOIpnSiWL-",
        "outputId": "b46e2a39-876c-4bc9-f232-13c27e3161ab"
      },
      "outputs": [
        {
          "name": "stdout",
          "output_type": "stream",
          "text": [
            "Fitting 5 folds for each of 3 candidates, totalling 15 fits\n",
            "\n",
            "Best Model: 0.844186 using {'svc__C': 0.1}\n",
            "\n",
            "\n",
            "SVM LogLoss 0.6931471805599454\n",
            "SVM accuracy score:  76.92307692307693\n",
            "\n",
            "\n"
          ]
        }
      ],
      "source": [
        "pipeline_svm = make_pipeline(SVC(probability=True, kernel=\"linear\", class_weight=\"balanced\"))\n",
        "\n",
        "grid_svm = GridSearchCV(pipeline_svm,\n",
        "                    param_grid = {'svc__C': [0.01, 0.1, 1]},\n",
        "                    cv = kfolds,\n",
        "                    verbose=1,\n",
        "                    n_jobs=-1)\n",
        "\n",
        "grid_svm.fit(x_train, y_train)\n",
        "grid_svm.score(x_test, y_test)\n",
        "print(\"\\nBest Model: %f using %s\" % (grid_svm.best_score_, grid_svm.best_params_))\n",
        "print('\\n')\n",
        "print('SVM LogLoss {score}'.format(score=log_loss(y_test, grid_svm.predict_proba(x_test)*100)))\n",
        "clfs.append(grid_svm)\n",
        "\n",
        "# save best model to current working directory\n",
        "joblib.dump(grid_svm, \"heart_disease_svm.pkl\")\n",
        "\n",
        "# load from file and predict using the best configs found in the CV step\n",
        "model_grid_svm = joblib.load(\"heart_disease_svm.pkl\" )\n",
        "\n",
        "# get predictions from best model above\n",
        "y_preds = model_grid_svm.predict(x_test)\n",
        "print('SVM accuracy score: ',accuracy_score(y_test, y_preds)*100)\n",
        "print('\\n')"
      ]
    },
    {
      "cell_type": "markdown",
      "metadata": {
        "id": "pCeeTR5bind8"
      },
      "source": [
        "#Performance Testing of SVM\n",
        "\n",
        "1.  Confusion matrix Building\n",
        "2.  Precision\n",
        "3.  Recall\n",
        "4.  F1 Score\n"
      ]
    },
    {
      "cell_type": "code",
      "execution_count": null,
      "metadata": {
        "colab": {
          "base_uri": "https://localhost:8080/",
          "height": 610
        },
        "id": "Nd3V0LNcisVa",
        "outputId": "76f1ada7-2ccf-4a0f-d6a8-4d21c077d00a"
      },
      "outputs": [
        {
          "name": "stdout",
          "output_type": "stream",
          "text": [
            "[[36 14]\n",
            " [ 7 34]]\n",
            "Confusion matrix of the classifier Support Vector machine\n"
          ]
        },
        {
          "name": "stderr",
          "output_type": "stream",
          "text": [
            "<ipython-input-38-ffd7014b668e>:13: UserWarning: FixedFormatter should only be used together with FixedLocator\n",
            "  ax.set_xticklabels([''] + labels)\n",
            "<ipython-input-38-ffd7014b668e>:14: UserWarning: FixedFormatter should only be used together with FixedLocator\n",
            "  ax.set_yticklabels([''] + labels)\n"
          ]
        },
        {
          "data": {
            "image/png": "[encoded data removed]",
            "text/plain": [
              "<Figure size 640x480 with 2 Axes>"
            ]
          },
          "metadata": {},
          "output_type": "display_data"
        },
        {
          "name": "stdout",
          "output_type": "stream",
          "text": [
            "\n",
            "\n"
          ]
        }
      ],
      "source": [
        "import pylab as plt\n",
        "labels=[0,1]\n",
        "cmx=confusion_matrix(y_test,y_preds)\n",
        "print(cmx)\n",
        "print(\"Confusion matrix of the classifier Support Vector machine\")\n",
        "#print(\"\\n\")\n",
        "fig = plt.figure()\n",
        "ax = fig.add_subplot(111)\n",
        "cax = ax.matshow(cmx)\n",
        "#plt.title('Confusion matrix of the classifier Support Vector machine')\n",
        "\n",
        "fig.colorbar(cax)\n",
        "ax.set_xticklabels([''] + labels)\n",
        "ax.set_yticklabels([''] + labels)\n",
        "plt.xlabel('Predicted by Model')\n",
        "plt.ylabel('Actual from Data')\n",
        "plt.show()\n",
        "\n",
        "print('\\n')\n"
      ]
    },
    {
      "cell_type": "markdown",
      "metadata": {
        "id": "NqWUMZyznx-f"
      },
      "source": [
        "Classification Report SVM\n"
      ]
    },
    {
      "cell_type": "code",
      "execution_count": null,
      "metadata": {
        "colab": {
          "base_uri": "https://localhost:8080/"
        },
        "id": "JyK9GKEu1NOt",
        "outputId": "49d09d23-6b75-4842-ade7-d6cc92d77ff6"
      },
      "outputs": [
        {
          "name": "stdout",
          "output_type": "stream",
          "text": [
            "              precision    recall  f1-score   support\n",
            "\n",
            "           0       0.84      0.72      0.77        50\n",
            "           1       0.71      0.83      0.76        41\n",
            "\n",
            "    accuracy                           0.77        91\n",
            "   macro avg       0.77      0.77      0.77        91\n",
            "weighted avg       0.78      0.77      0.77        91\n",
            "\n"
          ]
        }
      ],
      "source": [
        "print(classification_report(y_test, y_preds))"
      ]
    },
    {
      "cell_type": "markdown",
      "metadata": {
        "id": "PCGxts9lDMb8"
      },
      "source": [
        "# Multinomial Naive Bayes"
      ]
    },
    {
      "cell_type": "code",
      "execution_count": null,
      "metadata": {
        "colab": {
          "base_uri": "https://localhost:8080/"
        },
        "id": "sGGLLQN3DLEy",
        "outputId": "46ffda64-46c1-44a0-9a9f-cb9c201e77e2"
      },
      "outputs": [
        {
          "name": "stdout",
          "output_type": "stream",
          "text": [
            "MultinomialNB LogLoss 0.5357017455066246\n",
            "MultinomialNB accuracy score:  0.7582417582417582\n",
            "\n",
            "\n"
          ]
        }
      ],
      "source": [
        "# Multinomial Naive Bayes(NB)\n",
        "classifierNB=MultinomialNB()\n",
        "classifierNB.fit(x_train,y_train)\n",
        "classifierNB.score(x_test, y_test)\n",
        "\n",
        "print('MultinomialNB LogLoss {score}'.format(score=log_loss(y_test, classifierNB.predict_proba(x_test))))\n",
        "clfs.append(classifierNB)\n",
        "\n",
        "# save best model to current working directory\n",
        "joblib.dump(classifierNB, \"heart_disease_cnb.pkl\")\n",
        "\n",
        "# load from file and predict using the best configs found in the CV step\n",
        "model_classifierNB = joblib.load(\"heart_disease_cnb.pkl\" )\n",
        "\n",
        "# get predictions from best model above\n",
        "y_preds = model_classifierNB.predict(x_test)\n",
        "print('MultinomialNB accuracy score: ',accuracy_score(y_test, y_preds))\n",
        "print('\\n')"
      ]
    },
    {
      "cell_type": "markdown",
      "metadata": {
        "id": "BgrOTNJUDaTy"
      },
      "source": [
        "#Performance Testing"
      ]
    },
    {
      "cell_type": "code",
      "execution_count": null,
      "metadata": {
        "colab": {
          "base_uri": "https://localhost:8080/",
          "height": 581
        },
        "id": "2bVd8zJYDdq7",
        "outputId": "c9343823-b460-4db2-e94e-2a89de19a8cf"
      },
      "outputs": [
        {
          "name": "stdout",
          "output_type": "stream",
          "text": [
            "[[34 16]\n",
            " [ 6 35]]\n"
          ]
        },
        {
          "name": "stderr",
          "output_type": "stream",
          "text": [
            "<ipython-input-41-848207181ce7>:10: UserWarning: FixedFormatter should only be used together with FixedLocator\n",
            "  ax.set_xticklabels([''] + labels)\n",
            "<ipython-input-41-848207181ce7>:11: UserWarning: FixedFormatter should only be used together with FixedLocator\n",
            "  ax.set_yticklabels([''] + labels)\n"
          ]
        },
        {
          "data": {
            "image/png": "[encoded data removed]",
            "text/plain": [
              "<Figure size 640x480 with 2 Axes>"
            ]
          },
          "metadata": {},
          "output_type": "display_data"
        }
      ],
      "source": [
        "import pylab as plt\n",
        "labels=[0,1]\n",
        "cmx=confusion_matrix(y_test,y_preds)\n",
        "print(cmx)\n",
        "fig = plt.figure()\n",
        "ax = fig.add_subplot(111)\n",
        "cax = ax.matshow(cmx)\n",
        "plt.title('Confusion matrix of the classifier MNB')\n",
        "fig.colorbar(cax)\n",
        "ax.set_xticklabels([''] + labels)\n",
        "ax.set_yticklabels([''] + labels)\n",
        "plt.xlabel('Predicted')\n",
        "plt.ylabel('Actual')\n",
        "plt.show()\n"
      ]
    },
    {
      "cell_type": "markdown",
      "metadata": {
        "id": "QfEDwuMKDhEn"
      },
      "source": [
        "Classification Report MNB\n"
      ]
    },
    {
      "cell_type": "code",
      "execution_count": null,
      "metadata": {
        "colab": {
          "base_uri": "https://localhost:8080/"
        },
        "id": "eNv-vvPCDjUG",
        "outputId": "4ff125e0-bca7-412f-fd95-61e68cd9c45b"
      },
      "outputs": [
        {
          "name": "stdout",
          "output_type": "stream",
          "text": [
            "\n",
            "\n",
            "              precision    recall  f1-score   support\n",
            "\n",
            "           0       0.85      0.68      0.76        50\n",
            "           1       0.69      0.85      0.76        41\n",
            "\n",
            "    accuracy                           0.76        91\n",
            "   macro avg       0.77      0.77      0.76        91\n",
            "weighted avg       0.78      0.76      0.76        91\n",
            "\n"
          ]
        }
      ],
      "source": [
        "print('\\n')\n",
        "print(classification_report(y_test, y_preds))"
      ]
    },
    {
      "cell_type": "markdown",
      "metadata": {
        "id": "l7z0l2w6OGXZ"
      },
      "source": [
        "#Logistic Regeression\n"
      ]
    },
    {
      "cell_type": "code",
      "execution_count": null,
      "metadata": {
        "colab": {
          "base_uri": "https://localhost:8080/"
        },
        "id": "GeQwUgTI_GSv",
        "outputId": "6ea00536-68ed-4465-f82e-33db7881b135"
      },
      "outputs": [
        {
          "name": "stdout",
          "output_type": "stream",
          "text": [
            "LogisticRegression LogLoss 0.4785279314979095\n",
            "Logistic Regression accuracy score:  0.7692307692307693\n",
            "\n",
            "\n"
          ]
        }
      ],
      "source": [
        "# Logistic Regression(LR)\n",
        "classifierLR=LogisticRegression()\n",
        "\n",
        "classifierLR.fit(x_train,y_train)\n",
        "classifierLR.score(x_test, y_test)\n",
        "\n",
        "print('LogisticRegression LogLoss {score}'.format(score=log_loss(y_test, classifierLR.predict_proba(x_test))))\n",
        "clfs.append(classifierLR)\n",
        "\n",
        "# save best model to current working directory\n",
        "joblib.dump(classifierLR, \"heart_disease_lr.pkl\")\n",
        "\n",
        "# load from file and predict using the best configs found in the CV step\n",
        "model_classifierLR = joblib.load(\"heart_disease_lr.pkl\" )\n",
        "\n",
        "# get predictions from best model above\n",
        "y_preds = model_classifierLR.predict(x_test)\n",
        "print('Logistic Regression accuracy score: ',accuracy_score(y_test, y_preds))\n",
        "print('\\n')\n"
      ]
    },
    {
      "cell_type": "markdown",
      "metadata": {
        "id": "uFvfmf4bOZHc"
      },
      "source": [
        "#Performance Testing"
      ]
    },
    {
      "cell_type": "code",
      "execution_count": null,
      "metadata": {
        "colab": {
          "base_uri": "https://localhost:8080/",
          "height": 581
        },
        "id": "b_eOurUhO-C4",
        "outputId": "07c12808-31c8-45a5-ef03-c59d9a9136d4"
      },
      "outputs": [
        {
          "name": "stdout",
          "output_type": "stream",
          "text": [
            "[[34 16]\n",
            " [ 5 36]]\n"
          ]
        },
        {
          "name": "stderr",
          "output_type": "stream",
          "text": [
            "<ipython-input-44-40db712446bc>:10: UserWarning: FixedFormatter should only be used together with FixedLocator\n",
            "  ax.set_xticklabels([''] + labels)\n",
            "<ipython-input-44-40db712446bc>:11: UserWarning: FixedFormatter should only be used together with FixedLocator\n",
            "  ax.set_yticklabels([''] + labels)\n"
          ]
        },
        {
          "data": {
            "image/png": "[encoded data removed]",
            "text/plain": [
              "<Figure size 640x480 with 2 Axes>"
            ]
          },
          "metadata": {},
          "output_type": "display_data"
        }
      ],
      "source": [
        "import pylab as plt\n",
        "labels=[0,1]\n",
        "cmx=confusion_matrix(y_test,y_preds)\n",
        "print(cmx)\n",
        "fig = plt.figure()\n",
        "ax = fig.add_subplot(111)\n",
        "cax = ax.matshow(cmx)\n",
        "plt.title('Confusion matrix of the classifier LR')\n",
        "fig.colorbar(cax)\n",
        "ax.set_xticklabels([''] + labels)\n",
        "ax.set_yticklabels([''] + labels)\n",
        "plt.xlabel('Predicted')\n",
        "plt.ylabel('Actual')\n",
        "plt.show()\n",
        "\n"
      ]
    },
    {
      "cell_type": "markdown",
      "metadata": {
        "id": "iV2M8asXOc83"
      },
      "source": [
        "Classification Report LR\n"
      ]
    },
    {
      "cell_type": "code",
      "execution_count": null,
      "metadata": {
        "colab": {
          "base_uri": "https://localhost:8080/"
        },
        "id": "StNip4nwPDrs",
        "outputId": "6599f8dc-b912-4611-bf47-e560d05371a9"
      },
      "outputs": [
        {
          "name": "stdout",
          "output_type": "stream",
          "text": [
            "\n",
            "\n",
            "              precision    recall  f1-score   support\n",
            "\n",
            "           0       0.87      0.68      0.76        50\n",
            "           1       0.69      0.88      0.77        41\n",
            "\n",
            "    accuracy                           0.77        91\n",
            "   macro avg       0.78      0.78      0.77        91\n",
            "weighted avg       0.79      0.77      0.77        91\n",
            "\n"
          ]
        }
      ],
      "source": [
        "print('\\n')\n",
        "print(classification_report(y_test, y_preds))\n"
      ]
    },
    {
      "cell_type": "markdown",
      "metadata": {
        "id": "EWEJu1ffPH4q"
      },
      "source": [
        "\n",
        "# Decision Tree (DT)\n",
        "\n"
      ]
    },
    {
      "cell_type": "code",
      "execution_count": null,
      "metadata": {
        "colab": {
          "base_uri": "https://localhost:8080/"
        },
        "id": "2mAmScRRPLZx",
        "outputId": "3bc1e376-ef8d-4855-c416-9856a25d3c8e"
      },
      "outputs": [
        {
          "name": "stdout",
          "output_type": "stream",
          "text": [
            "Decision Tree LogLoss 0.9076515735501838\n",
            "Decision Tree accuracy score:  0.7582417582417582\n",
            "\n",
            "\n"
          ]
        }
      ],
      "source": [
        "classifierDT=DecisionTreeClassifier(criterion=\"gini\", random_state=50, max_depth=3, min_samples_leaf=5)\n",
        "classifierDT.fit(x_train,y_train)\n",
        "classifierDT.score(x_test, y_test)\n",
        "\n",
        "print('Decision Tree LogLoss {score}'.format(score=log_loss(y_test, classifierDT.predict_proba(x_test))))\n",
        "clfs.append(classifierDT)\n",
        "\n",
        "# save best model to current working directory\n",
        "joblib.dump(classifierDT, \"heart_disease_dt.pkl\")\n",
        "\n",
        "# load from file and predict using the best configs found in the CV\n",
        "model_classifierDT = joblib.load(\"heart_disease_dt.pkl\" )\n",
        "\n",
        "# get predictions from best model above\n",
        "y_preds = model_classifierDT.predict(x_test)\n",
        "print('Decision Tree accuracy score: ',accuracy_score(y_test, y_preds))\n",
        "print('\\n')\n",
        "\n"
      ]
    },
    {
      "cell_type": "markdown",
      "metadata": {
        "id": "5ulJa5abOqo9"
      },
      "source": [
        "#Performance Testing"
      ]
    },
    {
      "cell_type": "code",
      "execution_count": null,
      "metadata": {
        "colab": {
          "base_uri": "https://localhost:8080/",
          "height": 581
        },
        "id": "SXKy4nfXP6Ms",
        "outputId": "049b47c9-4bbe-4de0-ea86-58646102a34c"
      },
      "outputs": [
        {
          "name": "stdout",
          "output_type": "stream",
          "text": [
            "[[35 15]\n",
            " [ 7 34]]\n"
          ]
        },
        {
          "name": "stderr",
          "output_type": "stream",
          "text": [
            "<ipython-input-47-061933127462>:10: UserWarning: FixedFormatter should only be used together with FixedLocator\n",
            "  ax.set_xticklabels([''] + labels)\n",
            "<ipython-input-47-061933127462>:11: UserWarning: FixedFormatter should only be used together with FixedLocator\n",
            "  ax.set_yticklabels([''] + labels)\n"
          ]
        },
        {
          "data": {
            "image/png": "[encoded data removed]",
            "text/plain": [
              "<Figure size 640x480 with 2 Axes>"
            ]
          },
          "metadata": {},
          "output_type": "display_data"
        }
      ],
      "source": [
        "import pylab as plt\n",
        "labels=[0,1]\n",
        "cmx=confusion_matrix(y_test,y_preds)\n",
        "print(cmx)\n",
        "fig = plt.figure()\n",
        "ax = fig.add_subplot(111)\n",
        "cax = ax.matshow(cmx)\n",
        "plt.title('Confusion matrix of the classifier DT')\n",
        "fig.colorbar(cax)\n",
        "ax.set_xticklabels([''] + labels)\n",
        "ax.set_yticklabels([''] + labels)\n",
        "plt.xlabel('Predicted')\n",
        "plt.ylabel('Actual')\n",
        "plt.show()\n"
      ]
    },
    {
      "cell_type": "markdown",
      "metadata": {
        "id": "RdA5ZMC0O4jr"
      },
      "source": [
        "Classification Report DT\n"
      ]
    },
    {
      "cell_type": "code",
      "execution_count": null,
      "metadata": {
        "colab": {
          "base_uri": "https://localhost:8080/"
        },
        "id": "1YzbOymtQEKY",
        "outputId": "b0eb28d1-d86f-4e53-8c99-99b6d737c323"
      },
      "outputs": [
        {
          "name": "stdout",
          "output_type": "stream",
          "text": [
            "\n",
            "\n",
            "              precision    recall  f1-score   support\n",
            "\n",
            "           0       0.83      0.70      0.76        50\n",
            "           1       0.69      0.83      0.76        41\n",
            "\n",
            "    accuracy                           0.76        91\n",
            "   macro avg       0.76      0.76      0.76        91\n",
            "weighted avg       0.77      0.76      0.76        91\n",
            "\n"
          ]
        }
      ],
      "source": [
        "print('\\n')\n",
        "print(classification_report(y_test, y_preds))\n"
      ]
    },
    {
      "cell_type": "markdown",
      "metadata": {
        "id": "77i1lygtQHSQ"
      },
      "source": [
        "# Random Forest(RF)\n",
        "\n"
      ]
    },
    {
      "cell_type": "code",
      "execution_count": null,
      "metadata": {
        "colab": {
          "base_uri": "https://localhost:8080/"
        },
        "id": "LTk6t8UhQJxJ",
        "outputId": "77fcfc6a-90f1-4c9d-9d63-72d6f0a458d8"
      },
      "outputs": [
        {
          "name": "stdout",
          "output_type": "stream",
          "text": [
            "RandomForest LogLoss 0.9056763675522954\n",
            "Random Forest accuracy score:  0.7472527472527473\n",
            "\n",
            "\n"
          ]
        }
      ],
      "source": [
        "classifierRF=RandomForestClassifier()\n",
        "classifierRF.fit(x_train,y_train)\n",
        "classifierRF.score(x_test, y_test)\n",
        "print('RandomForest LogLoss {score}'.format(score=log_loss(y_test, classifierRF.predict_proba(x_test))))\n",
        "clfs.append(classifierRF)\n",
        "\n",
        "# save best model to current working directory\n",
        "joblib.dump(classifierRF, \"heart_disease_rf.pkl\")\n",
        "\n",
        "# load from file and predict using the best configs found in the CV step\n",
        "model_classifierRF = joblib.load(\"heart_disease_rf.pkl\" )\n",
        "\n",
        "# get predictions from best model above\n",
        "y_preds = model_classifierRF.predict(x_test)\n",
        "print('Random Forest accuracy score: ',accuracy_score(y_test, y_preds))\n",
        "print('\\n')\n"
      ]
    },
    {
      "cell_type": "markdown",
      "metadata": {
        "id": "oXT5tYsxOxrA"
      },
      "source": [
        "#Performance Testing"
      ]
    },
    {
      "cell_type": "code",
      "execution_count": null,
      "metadata": {
        "colab": {
          "base_uri": "https://localhost:8080/",
          "height": 581
        },
        "id": "HmRlLgU1QPLc",
        "outputId": "3ab33304-002a-45b6-8d5c-f7c876f0e891"
      },
      "outputs": [
        {
          "name": "stdout",
          "output_type": "stream",
          "text": [
            "[[33 17]\n",
            " [ 6 35]]\n"
          ]
        },
        {
          "name": "stderr",
          "output_type": "stream",
          "text": [
            "<ipython-input-50-12438aac906b>:10: UserWarning: FixedFormatter should only be used together with FixedLocator\n",
            "  ax.set_xticklabels([''] + labels)\n",
            "<ipython-input-50-12438aac906b>:11: UserWarning: FixedFormatter should only be used together with FixedLocator\n",
            "  ax.set_yticklabels([''] + labels)\n"
          ]
        },
        {
          "data": {
            "image/png": "[encoded data removed]",
            "text/plain": [
              "<Figure size 640x480 with 2 Axes>"
            ]
          },
          "metadata": {},
          "output_type": "display_data"
        }
      ],
      "source": [
        "import pylab as plt\n",
        "labels=[0,1]\n",
        "cmx=confusion_matrix(y_test,y_preds)\n",
        "print(cmx)\n",
        "fig = plt.figure()\n",
        "ax = fig.add_subplot(111)\n",
        "cax = ax.matshow(cmx)\n",
        "plt.title('Confusion matrix of the classifier RF')\n",
        "fig.colorbar(cax)\n",
        "ax.set_xticklabels([''] + labels)\n",
        "ax.set_yticklabels([''] + labels)\n",
        "plt.xlabel('Predicted')\n",
        "plt.ylabel('Actual')\n",
        "plt.show()\n"
      ]
    },
    {
      "cell_type": "markdown",
      "metadata": {
        "id": "G0SZ8EhCO5M8"
      },
      "source": [
        "Classification Report RF\n"
      ]
    },
    {
      "cell_type": "code",
      "execution_count": null,
      "metadata": {
        "colab": {
          "base_uri": "https://localhost:8080/"
        },
        "id": "1FfggMs8QV72",
        "outputId": "4fa14320-0885-454b-e591-52406f69ae5f"
      },
      "outputs": [
        {
          "name": "stdout",
          "output_type": "stream",
          "text": [
            "\n",
            "\n",
            "              precision    recall  f1-score   support\n",
            "\n",
            "           0       0.85      0.66      0.74        50\n",
            "           1       0.67      0.85      0.75        41\n",
            "\n",
            "    accuracy                           0.75        91\n",
            "   macro avg       0.76      0.76      0.75        91\n",
            "weighted avg       0.77      0.75      0.75        91\n",
            "\n"
          ]
        }
      ],
      "source": [
        "print('\\n')\n",
        "print(classification_report(y_test, y_preds))\n"
      ]
    },
    {
      "cell_type": "markdown",
      "metadata": {
        "id": "aud5B26vOyIZ"
      },
      "source": [
        "#Performance Testing Report of Base Learners.\n"
      ]
    },
    {
      "cell_type": "code",
      "execution_count": null,
      "metadata": {
        "colab": {
          "base_uri": "https://localhost:8080/"
        },
        "id": "qJ0dQiipQefN",
        "outputId": "4d9a2edf-db1c-4d5b-e41c-4e8ab866cdfd"
      },
      "outputs": [
        {
          "name": "stdout",
          "output_type": "stream",
          "text": [
            "\n",
            "\n",
            "Accuracy of svm: 0.7692307692307693\n",
            "Accuracy of naive bayes: 0.7582417582417582\n",
            "Accuracy of logistic regression: 0.7692307692307693\n",
            "Accuracy of decision tree: 0.7582417582417582\n",
            "Accuracy of random forest: 0.7472527472527473\n"
          ]
        }
      ],
      "source": [
        "print('\\n')\n",
        "print('Accuracy of svm: {}'.format(grid_svm.score(x_test, y_test)))\n",
        "\n",
        "print('Accuracy of naive bayes: {}'.format(classifierNB.score(x_test, y_test)))\n",
        "\n",
        "print('Accuracy of logistic regression: {}'.format(classifierLR.score(x_test, y_test)))\n",
        "\n",
        "print('Accuracy of decision tree: {}'.format(classifierDT.score(x_test, y_test)))\n",
        "\n",
        "print('Accuracy of random forest: {}'.format(classifierRF.score(x_test, y_test)))\n",
        "\n"
      ]
    },
    {
      "cell_type": "markdown",
      "metadata": {
        "id": "3Ps32rDERNp0"
      },
      "source": [
        "# Ensemble Majority Voting Classifier  \n"
      ]
    },
    {
      "cell_type": "code",
      "execution_count": null,
      "metadata": {
        "colab": {
          "base_uri": "https://localhost:8080/"
        },
        "id": "fKoYxgskRWnA",
        "outputId": "b31c5abb-7857-466e-c895-48b3f19f30e3"
      },
      "outputs": [
        {
          "name": "stdout",
          "output_type": "stream",
          "text": [
            "Fitting 5 folds for each of 3 candidates, totalling 15 fits\n",
            "majority_voting_accuracy:  0.7692307692307693\n",
            "\n",
            "\n"
          ]
        }
      ],
      "source": [
        "from sklearn.ensemble import VotingClassifier\n",
        "#create a dictionary of our models\n",
        "estimators=[('svm', grid_svm), ('nb', classifierNB), ('lr', classifierLR), ('dt', classifierDT),('rf', classifierRF)]\n",
        "\n",
        "#create our voting classifier, inputting our models\n",
        "majority_voting = VotingClassifier(estimators, voting='hard')\n",
        "\n",
        "#fit model to training data\n",
        "majority_voting.fit(x_train, y_train)\n",
        "#test our model on the test data\n",
        "majority_voting.score(x_test, y_test)\n",
        "\n",
        "# save best model to current working directory\n",
        "joblib.dump(majority_voting, \"heart_disease_mv.pkl\")\n",
        "\n",
        "# load from file and predict using the best configs found in the CV step\n",
        "model_max_v = joblib.load(\"heart_disease_mv.pkl\" )\n",
        "\n",
        "# get predictions from best model above\n",
        "y_preds = model_max_v.predict(x_test)\n",
        "print('majority_voting_accuracy: ',majority_voting.score(x_test, y_test))\n",
        "print('\\n')\n"
      ]
    },
    {
      "cell_type": "markdown",
      "metadata": {
        "id": "PaWJokpLReJ-"
      },
      "source": [
        "#Performance Testing"
      ]
    },
    {
      "cell_type": "code",
      "execution_count": null,
      "metadata": {
        "colab": {
          "base_uri": "https://localhost:8080/",
          "height": 581
        },
        "id": "rtw_GVK2R0YB",
        "outputId": "f9d1c0ed-5319-453c-847d-101df2ba6af7"
      },
      "outputs": [
        {
          "name": "stdout",
          "output_type": "stream",
          "text": [
            "[[35 15]\n",
            " [ 6 35]]\n"
          ]
        },
        {
          "name": "stderr",
          "output_type": "stream",
          "text": [
            "<ipython-input-54-1520474784b2>:10: UserWarning: FixedFormatter should only be used together with FixedLocator\n",
            "  ax.set_xticklabels([''] + labels)\n",
            "<ipython-input-54-1520474784b2>:11: UserWarning: FixedFormatter should only be used together with FixedLocator\n",
            "  ax.set_yticklabels([''] + labels)\n"
          ]
        },
        {
          "data": {
            "image/png": "[encoded data removed]",
            "text/plain": [
              "<Figure size 640x480 with 2 Axes>"
            ]
          },
          "metadata": {},
          "output_type": "display_data"
        }
      ],
      "source": [
        "import pylab as plt\n",
        "labels=[0,1]\n",
        "cmx=confusion_matrix(y_test,y_preds)\n",
        "print(cmx)\n",
        "fig = plt.figure()\n",
        "ax = fig.add_subplot(111)\n",
        "cax = ax.matshow(cmx)\n",
        "plt.title('Confusion matrix of the classifier Ensemble Majority Voting Classifier')\n",
        "fig.colorbar(cax)\n",
        "ax.set_xticklabels([''] + labels)\n",
        "ax.set_yticklabels([''] + labels)\n",
        "plt.xlabel('Predicted')\n",
        "plt.ylabel('Actual')\n",
        "plt.show()\n"
      ]
    },
    {
      "cell_type": "markdown",
      "metadata": {
        "id": "azEzQBqqR_Bx"
      },
      "source": [
        "Classification Report RF\n"
      ]
    },
    {
      "cell_type": "code",
      "execution_count": null,
      "metadata": {
        "colab": {
          "base_uri": "https://localhost:8080/"
        },
        "id": "PKVsK-kuSCvt",
        "outputId": "3bcf000b-53f6-41e2-9900-0b67d298abdc"
      },
      "outputs": [
        {
          "name": "stdout",
          "output_type": "stream",
          "text": [
            "\n",
            "\n",
            "              precision    recall  f1-score   support\n",
            "\n",
            "           0       0.85      0.70      0.77        50\n",
            "           1       0.70      0.85      0.77        41\n",
            "\n",
            "    accuracy                           0.77        91\n",
            "   macro avg       0.78      0.78      0.77        91\n",
            "weighted avg       0.78      0.77      0.77        91\n",
            "\n"
          ]
        }
      ],
      "source": [
        "\n",
        "print('\\n')\n",
        "print(classification_report(y_test, y_preds))\n"
      ]
    },
    {
      "cell_type": "markdown",
      "metadata": {
        "id": "TLN0EVYxR6Ju"
      },
      "source": [
        "#Ensemble Weighted average classifier"
      ]
    },
    {
      "cell_type": "code",
      "execution_count": null,
      "metadata": {
        "colab": {
          "base_uri": "https://localhost:8080/"
        },
        "id": "B_Ic2P8iSOkE",
        "outputId": "2dfd909a-14a5-452e-dee5-32fb5862ca80"
      },
      "outputs": [
        {
          "name": "stdout",
          "output_type": "stream",
          "text": [
            "ensamble score: 0.47116868324592553\n",
            "Best Weights: [0.00000000e+00 1.20152922e-17 7.02211986e-01 1.19507831e-01\n",
            " 1.78280184e-01]\n",
            "Fitting 5 folds for each of 3 candidates, totalling 15 fits\n",
            "The accuracy weighted average classifier is : 0.8021978021978022\n",
            "weighted_average_accuracy:  0.8021978021978022\n",
            "\n",
            "\n"
          ]
        }
      ],
      "source": [
        "#finding the optimum weights\n",
        "from scipy.optimize import minimize\n",
        "predictions = []\n",
        "for clff in clfs:\n",
        "    predictions.append(clff.predict_proba(x_test))\n",
        "\n",
        "def log_loss_func(weights):\n",
        "    final_prediction = 0\n",
        "    for weight, prediction in zip(weights, predictions):\n",
        "            final_prediction += weight*prediction\n",
        "\n",
        "    return log_loss(y_test, final_prediction)\n",
        "\n",
        "#the algorithms need a starting value, right not we chose 0.5 for all weights\n",
        "#its better to choose many random starting points and run minimize a few times\n",
        "starting_values = [0.5]*len(predictions)\n",
        "\n",
        "#adding constraints  and a different solver as suggested by user 16universe\n",
        "cons = ({'type':'eq','fun':lambda w: 1-sum(w)})\n",
        "#our weights are bound between 0 and 1\n",
        "bounds = [(0,1)]*len(predictions)\n",
        "\n",
        "res = minimize(log_loss_func, starting_values, method='SLSQP', bounds=bounds, constraints=cons)\n",
        "\n",
        "print('ensamble score: {best_score}'.format(best_score=res['fun']))\n",
        "print('Best Weights: {weights}'.format(weights=res['x']))\n",
        "\n",
        "weighted_avg = VotingClassifier(estimators, voting='soft',weights=res['x']).fit(x_train, y_train)\n",
        "print('The accuracy weighted average classifier is :', weighted_avg.score(x_test,y_test))\n",
        "\n",
        "# save best model to current working directory\n",
        "joblib.dump(weighted_avg, \"heart_disease_wav.pkl\")\n",
        "\n",
        "# load from file and predict using the best configs found in the CV step\n",
        "model_w_avg = joblib.load(\"heart_disease_wav.pkl\" )\n",
        "\n",
        "# get predictions from best model above\n",
        "y_preds = model_w_avg.predict(x_test)\n",
        "print('weighted_average_accuracy: ',weighted_avg.score(x_test, y_test))\n",
        "print('\\n')\n"
      ]
    },
    {
      "cell_type": "markdown",
      "metadata": {
        "id": "EvXG5Qa5h7Uh"
      },
      "source": [
        "#Performance Testing"
      ]
    },
    {
      "cell_type": "code",
      "execution_count": null,
      "metadata": {
        "colab": {
          "base_uri": "https://localhost:8080/",
          "height": 581
        },
        "id": "7KhqUeCRSei4",
        "outputId": "845b3faf-3af2-4651-f387-2144320bf2b8"
      },
      "outputs": [
        {
          "name": "stdout",
          "output_type": "stream",
          "text": [
            "[[36 14]\n",
            " [ 4 37]]\n"
          ]
        },
        {
          "name": "stderr",
          "output_type": "stream",
          "text": [
            "<ipython-input-57-d62687276cb8>:10: UserWarning: FixedFormatter should only be used together with FixedLocator\n",
            "  ax.set_xticklabels([''] + labels)\n",
            "<ipython-input-57-d62687276cb8>:11: UserWarning: FixedFormatter should only be used together with FixedLocator\n",
            "  ax.set_yticklabels([''] + labels)\n"
          ]
        },
        {
          "data": {
            "image/png": "[encoded data removed]",
            "text/plain": [
              "<Figure size 640x480 with 2 Axes>"
            ]
          },
          "metadata": {},
          "output_type": "display_data"
        }
      ],
      "source": [
        "import pylab as plt\n",
        "labels=[0,1]\n",
        "cmx=confusion_matrix(y_test,y_preds)\n",
        "print(cmx)\n",
        "fig = plt.figure()\n",
        "ax = fig.add_subplot(111)\n",
        "cax = ax.matshow(cmx)\n",
        "plt.title('Confusion matrix of the classifier of Weighted Avarage:')\n",
        "fig.colorbar(cax)\n",
        "ax.set_xticklabels([''] + labels)\n",
        "ax.set_yticklabels([''] + labels)\n",
        "plt.xlabel('Predicted')\n",
        "plt.ylabel('Actual')\n",
        "plt.show()\n"
      ]
    },
    {
      "cell_type": "markdown",
      "metadata": {
        "id": "yQ4L8YRrSBU8"
      },
      "source": [
        "Classification Report RF\n"
      ]
    },
    {
      "cell_type": "code",
      "execution_count": null,
      "metadata": {
        "colab": {
          "base_uri": "https://localhost:8080/"
        },
        "id": "zwbVEYkVSjYc",
        "outputId": "23e44379-abee-4f67-f000-a6997509bda6"
      },
      "outputs": [
        {
          "name": "stdout",
          "output_type": "stream",
          "text": [
            "\n",
            "\n",
            "              precision    recall  f1-score   support\n",
            "\n",
            "           0       0.90      0.72      0.80        50\n",
            "           1       0.73      0.90      0.80        41\n",
            "\n",
            "    accuracy                           0.80        91\n",
            "   macro avg       0.81      0.81      0.80        91\n",
            "weighted avg       0.82      0.80      0.80        91\n",
            "\n",
            "end\n"
          ]
        }
      ],
      "source": [
        "print('\\n')\n",
        "print(classification_report(y_test, y_preds))\n",
        "\n",
        "print(\"end\")\n"
      ]
    },
    {
      "cell_type": "markdown",
      "metadata": {
        "id": "ge4xbIMShtC_"
      },
      "source": [
        "# Bagging"
      ]
    },
    {
      "cell_type": "code",
      "execution_count": null,
      "metadata": {
        "colab": {
          "base_uri": "https://localhost:8080/"
        },
        "id": "5VAIfWjlQv0Y",
        "outputId": "7208c49a-ace6-408c-9bf7-990197a7e8e4"
      },
      "outputs": [
        {
          "name": "stdout",
          "output_type": "stream",
          "text": [
            "bagging_accuracy score:  0.7802197802197802\n",
            "\n",
            "\n"
          ]
        }
      ],
      "source": [
        "classifierBa= BaggingClassifier(max_samples=0.5, max_features=1.0, n_estimators=50)\n",
        "classifierBa.fit(x_train,y_train)\n",
        "classifierBa.score(x_test, y_test)\n",
        "\n",
        "# save best model to current working directory\n",
        "joblib.dump(classifierBa, \"heart_disease_bag.pkl\")\n",
        "\n",
        "# load from file and predict using the best configs found in the CV step\n",
        "model_bagging = joblib.load(\"heart_disease_bag.pkl\" )\n",
        "\n",
        "# get predictions from best model above\n",
        "y_preds = model_bagging.predict(x_test)\n",
        "print('bagging_accuracy score: ',accuracy_score(y_test, y_preds))\n",
        "print('\\n')\n"
      ]
    },
    {
      "cell_type": "markdown",
      "metadata": {
        "id": "S_D-jHk9ReTX"
      },
      "source": [
        "#Performance Testing"
      ]
    },
    {
      "cell_type": "code",
      "execution_count": null,
      "metadata": {
        "colab": {
          "base_uri": "https://localhost:8080/",
          "height": 581
        },
        "id": "bqHoeV29iGmO",
        "outputId": "50344822-5b60-4cc6-c4f9-9991cd27a813"
      },
      "outputs": [
        {
          "name": "stdout",
          "output_type": "stream",
          "text": [
            "[[35 15]\n",
            " [ 5 36]]\n"
          ]
        },
        {
          "name": "stderr",
          "output_type": "stream",
          "text": [
            "<ipython-input-60-86eb2b75ad7e>:10: UserWarning: FixedFormatter should only be used together with FixedLocator\n",
            "  ax.set_xticklabels([''] + labels)\n",
            "<ipython-input-60-86eb2b75ad7e>:11: UserWarning: FixedFormatter should only be used together with FixedLocator\n",
            "  ax.set_yticklabels([''] + labels)\n"
          ]
        },
        {
          "data": {
            "image/png": "[encoded data removed]",
            "text/plain": [
              "<Figure size 640x480 with 2 Axes>"
            ]
          },
          "metadata": {},
          "output_type": "display_data"
        }
      ],
      "source": [
        "import pylab as plt\n",
        "labels=[0,1]\n",
        "cmx=confusion_matrix(y_test,y_preds)\n",
        "print(cmx)\n",
        "fig = plt.figure()\n",
        "ax = fig.add_subplot(111)\n",
        "cax = ax.matshow(cmx)\n",
        "plt.title('Confusion matrix of the classifier')\n",
        "fig.colorbar(cax)\n",
        "ax.set_xticklabels([''] + labels)\n",
        "ax.set_yticklabels([''] + labels)\n",
        "plt.xlabel('Predicted')\n",
        "plt.ylabel('Actual')\n",
        "plt.show()\n"
      ]
    },
    {
      "cell_type": "markdown",
      "metadata": {
        "id": "43jToSn_iEKs"
      },
      "source": [
        "Classification Report Bagging\n"
      ]
    },
    {
      "cell_type": "code",
      "execution_count": null,
      "metadata": {
        "colab": {
          "base_uri": "https://localhost:8080/"
        },
        "id": "Jf5qnJsgiLmp",
        "outputId": "a8478b80-9262-44b6-f855-6e9f93382d85"
      },
      "outputs": [
        {
          "name": "stdout",
          "output_type": "stream",
          "text": [
            "\n",
            "\n",
            "              precision    recall  f1-score   support\n",
            "\n",
            "           0       0.88      0.70      0.78        50\n",
            "           1       0.71      0.88      0.78        41\n",
            "\n",
            "    accuracy                           0.78        91\n",
            "   macro avg       0.79      0.79      0.78        91\n",
            "weighted avg       0.80      0.78      0.78        91\n",
            "\n"
          ]
        }
      ],
      "source": [
        "print('\\n')\n",
        "print(classification_report(y_test, y_preds))\n"
      ]
    },
    {
      "cell_type": "markdown",
      "metadata": {
        "id": "n1pKQS9siOLO"
      },
      "source": [
        "# AdaBoost Classifier"
      ]
    },
    {
      "cell_type": "code",
      "execution_count": null,
      "metadata": {
        "colab": {
          "base_uri": "https://localhost:8080/"
        },
        "id": "laOGAGYniNvc",
        "outputId": "1a0c85dd-3708-4ab8-99a3-de0b1421fbea"
      },
      "outputs": [
        {
          "name": "stdout",
          "output_type": "stream",
          "text": [
            "Ada_boost_accuracy score:  0.7032967032967034\n",
            "\n",
            "\n"
          ]
        }
      ],
      "source": [
        "\n",
        "classifierAdaBoost= AdaBoostClassifier(n_estimators=500)\n",
        "classifierAdaBoost.fit(x_train,y_train)\n",
        "classifierAdaBoost.score(x_test, y_test)\n",
        "\n",
        "# save best model to current working directory\n",
        "joblib.dump(classifierAdaBoost, \"heart_disease_adb.pkl\")\n",
        "\n",
        "# load from file and predict using the best configs found in the CV step\n",
        "model_Ada_boost = joblib.load(\"heart_disease_adb.pkl\" )\n",
        "\n",
        "# get predictions from best model above\n",
        "y_preds = model_Ada_boost.predict(x_test)\n",
        "print('Ada_boost_accuracy score: ',accuracy_score(y_test, y_preds))\n",
        "print('\\n')\n"
      ]
    },
    {
      "cell_type": "markdown",
      "metadata": {
        "id": "TMdUrgxWh_T9"
      },
      "source": [
        "#Performance Testing"
      ]
    },
    {
      "cell_type": "code",
      "execution_count": null,
      "metadata": {
        "colab": {
          "base_uri": "https://localhost:8080/",
          "height": 581
        },
        "id": "orcqmiBlibwa",
        "outputId": "7bf72603-a3fc-432f-920d-f919c84409f0"
      },
      "outputs": [
        {
          "name": "stdout",
          "output_type": "stream",
          "text": [
            "[[33 17]\n",
            " [10 31]]\n"
          ]
        },
        {
          "name": "stderr",
          "output_type": "stream",
          "text": [
            "<ipython-input-63-86eb2b75ad7e>:10: UserWarning: FixedFormatter should only be used together with FixedLocator\n",
            "  ax.set_xticklabels([''] + labels)\n",
            "<ipython-input-63-86eb2b75ad7e>:11: UserWarning: FixedFormatter should only be used together with FixedLocator\n",
            "  ax.set_yticklabels([''] + labels)\n"
          ]
        },
        {
          "data": {
            "image/png": "[encoded data removed]",
            "text/plain": [
              "<Figure size 640x480 with 2 Axes>"
            ]
          },
          "metadata": {},
          "output_type": "display_data"
        }
      ],
      "source": [
        "import pylab as plt\n",
        "labels=[0,1]\n",
        "cmx=confusion_matrix(y_test,y_preds)\n",
        "print(cmx)\n",
        "fig = plt.figure()\n",
        "ax = fig.add_subplot(111)\n",
        "cax = ax.matshow(cmx)\n",
        "plt.title('Confusion matrix of the classifier')\n",
        "fig.colorbar(cax)\n",
        "ax.set_xticklabels([''] + labels)\n",
        "ax.set_yticklabels([''] + labels)\n",
        "plt.xlabel('Predicted')\n",
        "plt.ylabel('Actual')\n",
        "plt.show()\n"
      ]
    },
    {
      "cell_type": "markdown",
      "metadata": {
        "id": "_IKYGOn3iEzi"
      },
      "source": [
        "Classification Report AdaBoost\n"
      ]
    },
    {
      "cell_type": "code",
      "execution_count": null,
      "metadata": {
        "colab": {
          "base_uri": "https://localhost:8080/"
        },
        "id": "-awjFl8uigoJ",
        "outputId": "a74336b5-196d-48ae-babe-99fef2c1de1c"
      },
      "outputs": [
        {
          "name": "stdout",
          "output_type": "stream",
          "text": [
            "\n",
            "\n",
            "              precision    recall  f1-score   support\n",
            "\n",
            "           0       0.77      0.66      0.71        50\n",
            "           1       0.65      0.76      0.70        41\n",
            "\n",
            "    accuracy                           0.70        91\n",
            "   macro avg       0.71      0.71      0.70        91\n",
            "weighted avg       0.71      0.70      0.70        91\n",
            "\n"
          ]
        }
      ],
      "source": [
        "print('\\n')\n",
        "print(classification_report(y_test, y_preds))\n"
      ]
    },
    {
      "cell_type": "markdown",
      "metadata": {
        "id": "mAxpz_fGjI11"
      },
      "source": [
        "##Final Testing Report of Ensemble Learning and Classifiers."
      ]
    },
    {
      "cell_type": "code",
      "execution_count": null,
      "metadata": {
        "colab": {
          "base_uri": "https://localhost:8080/"
        },
        "id": "HbVOUbQ0kbCT",
        "outputId": "bbe16ff5-97ba-4fae-c247-6ed2701740dc"
      },
      "outputs": [
        {
          "name": "stdout",
          "output_type": "stream",
          "text": [
            "Ensemble Learners :\n",
            "Majority Voting accuracy score:  0.7692307692307693\n",
            "Weighted Average accuracy score:  0.8021978021978022\n",
            "Bagging_accuracy score:  0.7802197802197802\n",
            "Ada_boost_accuracy score:  0.7032967032967034\n",
            "\n",
            "\n",
            "\n",
            "Base lerners :\n",
            "Accuracy of svm: 0.7692307692307693\n",
            "Accuracy of naive bayes: 0.7582417582417582\n",
            "Accuracy of logistic regression: 0.7692307692307693\n",
            "Accuracy of decision tree: 0.7582417582417582\n",
            "Accuracy of random forest: 0.7472527472527473\n"
          ]
        }
      ],
      "source": [
        "\n",
        "print('Ensemble Learners :')\n",
        "print('Majority Voting accuracy score: ',majority_voting.score(x_test, y_test))\n",
        "print('Weighted Average accuracy score: ',weighted_avg.score(x_test, y_test))\n",
        "print('Bagging_accuracy score: ',classifierBa.score(x_test, y_test))\n",
        "print('Ada_boost_accuracy score: ',classifierAdaBoost.score(x_test, y_test))\n",
        "print(\"\\n\\n\")\n",
        "print(\"Base lerners :\")\n",
        "print('Accuracy of svm: {}'.format(grid_svm.score(x_test, y_test)))\n",
        "print('Accuracy of naive bayes: {}'.format(classifierNB.score(x_test, y_test)))\n",
        "print('Accuracy of logistic regression: {}'.format(classifierLR.score(x_test, y_test)))\n",
        "print('Accuracy of decision tree: {}'.format(classifierDT.score(x_test, y_test)))\n",
        "print('Accuracy of random forest: {}'.format(classifierRF.score(x_test, y_test)))\n",
        "\n",
        "\n"
      ]
    }
  ],
  "metadata": {
    "colab": {
      "include_colab_link": true,
      "provenance": []
    },
    "kernelspec": {
      "display_name": "Python 3",
      "name": "python3"
    },
    "language_info": {
      "name": "python",
      "version": "3.7.3"
    }
  },
  "nbformat": 4,
  "nbformat_minor": 0
}
